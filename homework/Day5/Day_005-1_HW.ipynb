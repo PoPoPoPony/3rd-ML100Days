{
 "cells": [
  {
   "cell_type": "code",
   "execution_count": null,
   "metadata": {},
   "outputs": [],
   "source": [
    "# %load Day_005-1_HW.py\n",
    "#!/usr/bin/env python\n",
    "\n",
    "# # [作業目標]\n",
    "# - 利用範例的創建方式, 創建一組資料, 並練習如何取出最大值\n",
    "\n",
    "# # [作業重點]\n",
    "# - 練習創立 DataFrame (In[2])\n",
    "# - 如何取出口數最多的國家 (In[3], Out[3])\n",
    "\n",
    "# ## 練習時間\n",
    "# 在小量的資料上，我們用眼睛就可以看得出來程式碼是否有跑出我們理想中的結果\n",
    "# \n",
    "# 請嘗試想像一個你需要的資料結構 (裡面的值可以是隨機的)，然後用上述的方法把它變成 pandas DataFrame\n",
    "# \n",
    "# #### Ex: 想像一個 dataframe 有兩個欄位，一個是國家，一個是人口，求人口數最多的國家\n",
    "# \n",
    "# ### Hints: [隨機產生數值](https://blog.csdn.net/christianashannon/article/details/78867204)\n",
    "\n",
    "# In[1]:\n",
    "\n",
    "\n",
    "import pandas as pd\n",
    "from numpy import random\n",
    "\n",
    "\n",
    "# In[ ]:\n",
    "\n",
    "\n",
    "population = random.randint(low = 100000 , high = 500000 , size = 5)\n",
    "print(population)\n",
    "\n",
    "\n",
    "data = {'國家': ['US' , 'UK' , 'JP' , 'PRC' , 'ROC'],\n",
    "        '人口': population}\n",
    "data = pd.DataFrame(data)\n",
    "\n",
    "\n",
    "# In[ ]:\n",
    "\n",
    "print(data)\n",
    "print(data['國家'][data['人口'].idxmax()])\n",
    "\n",
    "\n"
   ]
  }
 ],
 "metadata": {
  "kernelspec": {
   "display_name": "Python 3",
   "language": "python",
   "name": "python3"
  },
  "language_info": {
   "codemirror_mode": {
    "name": "ipython",
    "version": 3
   },
   "file_extension": ".py",
   "mimetype": "text/x-python",
   "name": "python",
   "nbconvert_exporter": "python",
   "pygments_lexer": "ipython3",
   "version": "3.7.3"
  }
 },
 "nbformat": 4,
 "nbformat_minor": 2
}
