{
 "cells": [
  {
   "cell_type": "code",
   "execution_count": null,
   "metadata": {},
   "outputs": [],
   "source": [
    "# %load Day_002_HW.py\n",
    "# # [作業2]\n",
    "# \n",
    "# 請上 Kaggle, 在 Competitions 或 Dataset 中找一組競賽或資料並寫下：\n",
    "# \n",
    "# 1. 你選的這組資料為何重要\n",
    "# \n",
    "# 2. 資料從何而來 (tips: 譬如提供者是誰、以什麼方式蒐集)\n",
    "# \n",
    "# 3. 蒐集而來的資料型態為何\n",
    "# \n",
    "# 4. 這組資料想解決的問題如何評估\n",
    "#\n",
    "# Data set : Medical Cost Personal Datasets\n",
    "#\n",
    "# A1 : 因為這組資料刻劃了美國人的醫療保險費用，並給了我們諸如病患的性別、bmi、是否吸菸、所屬地區等\n",
    "#      與醫療費用息息相關的資料。重要的議題加上不會乾淨、完整的資料，我認為這筆資料很適合拿來練習分析。\n",
    "#      \n",
    "# A2 : 資料的提供者 : Miri Choi，資料來源未知\n",
    "#\n",
    "# A3 : 資料的型態為 .csv，裡面的變數部分是連續型的(歲數、bmi)，部分是離散型的(性別、是否吸菸)\n",
    "#\n",
    "# A4 : 我覺得可以用 MAE、RMSE來評估，因為這組 data set 的作者想要看看能不能正確的預測醫療保險的金額，\n",
    "#      也就是說，這應該是個回歸問題，而回歸問題最常見的評估方法應該是用MAE、RMSE，所以我覺得可以先嘗試\n",
    "#      這兩個評估方法"
   ]
  }
 ],
 "metadata": {
  "kernelspec": {
   "display_name": "Python 3",
   "language": "python",
   "name": "python3"
  },
  "language_info": {
   "codemirror_mode": {
    "name": "ipython",
    "version": 3
   },
   "file_extension": ".py",
   "mimetype": "text/x-python",
   "name": "python",
   "nbconvert_exporter": "python",
   "pygments_lexer": "ipython3",
   "version": "3.7.3"
  }
 },
 "nbformat": 4,
 "nbformat_minor": 2
}
