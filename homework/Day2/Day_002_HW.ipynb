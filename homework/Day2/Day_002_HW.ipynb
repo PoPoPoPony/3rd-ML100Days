{
 "cells": [
  {
   "cell_type": "code",
   "execution_count": null,
   "metadata": {},
   "outputs": [],
   "source": [
    "# %load Day_002_HW.py\n",
    "#!/usr/bin/env python\n",
    "\n",
    "# ## [作業目標]\n",
    "# 了解機器學習適合應用的領域與範疇。\n",
    "\n",
    "# ## [作業重點]\n",
    "# 透過瞭解機器學習的運作方式，找出非常適用機器學習應用的領域及其原因\n",
    "\n",
    "# ## 作業\n",
    "# 請找出一個你認為機器學習可以發光發熱的領域並闡述原因? \n",
    "\n",
    "#比如說NLP領域， 怎麼讓機器能夠\"理解\"人們的語言?或是怎麼設計QA系統，能夠讓機器回應人們的需求\n",
    "# 、如何能夠基於機器學習實現翻譯少數語言的功能(因為training data很少，因此學習的模型可能需要經過特別的設計)\n",
    "#等等都是炙手可熱的應用，也確實可以解決許多生活上的難題，因此我認為在NLP領域(其他領域也是)機器學習一定可以發光發熱\n",
    "#\n",
    "#\n",
    "\n",
    "\n",
    "\n"
   ]
  }
 ],
 "metadata": {
  "kernelspec": {
   "display_name": "Python 3",
   "language": "python",
   "name": "python3"
  },
  "language_info": {
   "codemirror_mode": {
    "name": "ipython",
    "version": 3
   },
   "file_extension": ".py",
   "mimetype": "text/x-python",
   "name": "python",
   "nbconvert_exporter": "python",
   "pygments_lexer": "ipython3",
   "version": "3.7.3"
  }
 },
 "nbformat": 4,
 "nbformat_minor": 2
}
