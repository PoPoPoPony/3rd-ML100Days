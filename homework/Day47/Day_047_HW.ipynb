{
 "cells": [
  {
   "cell_type": "code",
   "execution_count": null,
   "metadata": {},
   "outputs": [],
   "source": [
    "# %load Day_047_HW.py\n",
    "#!/usr/bin/env python\n",
    "\n",
    "# ## [作業重點]\n",
    "# 了解如何使用 Sklearn 中的 hyper-parameter search 找出最佳的超參數\n",
    "\n",
    "# ### 作業\n",
    "# 請使用不同的資料集，並使用 hyper-parameter search 的方式，看能不能找出最佳的超參數組合\n",
    "\n",
    "# In[ ]:\n",
    "\n",
    "\n",
    "import pandas as pd\n",
    "from sklearn import datasets, metrics\n",
    "from sklearn.model_selection import train_test_split\n",
    "from sklearn.ensemble import GradientBoostingClassifier\n",
    "from sklearn.metrics import classification_report\n",
    "from sklearn.model_selection import GridSearchCV\n",
    "\n",
    "digits = datasets.load_digits()\n",
    "\n",
    "\n",
    "df_X = pd.DataFrame(digits['data'])\n",
    "df_Y = pd.DataFrame(digits['target'])\n",
    "\n",
    "print(df_X.shape)\n",
    "\n",
    "\n",
    "train_X , test_X , train_Y , test_Y = train_test_split(df_X , df_Y , test_size = 0.2)\n",
    "clf = GradientBoostingClassifier()\n",
    "lr = [0.1 , 0.2 , 0.3]\n",
    "n_estimator = [150 , 100 , 50]\n",
    "\n",
    "param_grid = dict(learning_rate = lr , n_estimators = n_estimator)\n",
    "\n",
    "grid_search = GridSearchCV(clf , param_grid , scoring = 'accuracy')\n",
    "grid_result = grid_search.fit(train_X , train_Y)\n",
    "print(grid_result.best_score_)\n",
    "print(grid_result.best_params_)"
   ]
  }
 ],
 "metadata": {
  "kernelspec": {
   "display_name": "Python 3",
   "language": "python",
   "name": "python3"
  },
  "language_info": {
   "codemirror_mode": {
    "name": "ipython",
    "version": 3
   },
   "file_extension": ".py",
   "mimetype": "text/x-python",
   "name": "python",
   "nbconvert_exporter": "python",
   "pygments_lexer": "ipython3",
   "version": "3.7.3"
  }
 },
 "nbformat": 4,
 "nbformat_minor": 2
}
