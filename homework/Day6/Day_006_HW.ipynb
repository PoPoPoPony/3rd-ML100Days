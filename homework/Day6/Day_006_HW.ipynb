{
 "cells": [
  {
   "cell_type": "code",
   "execution_count": null,
   "metadata": {},
   "outputs": [],
   "source": [
    "# %load Day_006_HW.py\n",
    "#!/usr/bin/env python\n",
    "\n",
    "# # [作業目標]\n",
    "# - 仿造範例的 One Hot Encoding, 將指定的資料進行編碼\n",
    "\n",
    "# # [作業重點]\n",
    "# - 將 sub_train 進行 One Hot Encoding 編碼 (In[4], Out[4])\n",
    "\n",
    "# In[1]:\n",
    "\n",
    "\n",
    "import os\n",
    "import numpy as np\n",
    "import pandas as pd\n",
    "\n",
    "\n",
    "# In[2]:\n",
    "\n",
    "\n",
    "# 設定 data_path, 並讀取 app_train\n",
    "dir_data = 'D:/VScode workshop/3rd-ML100Days/practice/Day6/data/'\n",
    "f_app_train = os.path.join(dir_data, 'application_train.csv')\n",
    "app_train = pd.read_csv(f_app_train)\n",
    "\n",
    "\n",
    "# ## 作業\n",
    "# 將下列部分資料片段 sub_train 使用 One Hot encoding, 並觀察轉換前後的欄位數量 (使用 shape) 與欄位名稱 (使用 head) 變化\n",
    "\n",
    "# In[3]:\n",
    "\n",
    "\n",
    "sub_train = pd.DataFrame(app_train['WEEKDAY_APPR_PROCESS_START'])\n",
    "print(sub_train.shape)\n",
    "sub_train.head()\n",
    "\n",
    "\n",
    "# In[ ]:\n",
    "\n",
    "one_hot_train = pd.get_dummies(sub_train)\n",
    "print(one_hot_train.shape)\n",
    "print(one_hot_train.head())\n",
    "\n",
    "\n",
    "\n",
    "\"\"\"\n",
    "Your Code Here\n",
    "\"\"\"\n",
    "\n"
   ]
  }
 ],
 "metadata": {
  "kernelspec": {
   "display_name": "Python 3",
   "language": "python",
   "name": "python3"
  },
  "language_info": {
   "codemirror_mode": {
    "name": "ipython",
    "version": 3
   },
   "file_extension": ".py",
   "mimetype": "text/x-python",
   "name": "python",
   "nbconvert_exporter": "python",
   "pygments_lexer": "ipython3",
   "version": "3.7.3"
  }
 },
 "nbformat": 4,
 "nbformat_minor": 2
}
