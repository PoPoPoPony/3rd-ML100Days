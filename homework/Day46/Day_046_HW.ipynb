{
 "cells": [
  {
   "cell_type": "code",
   "execution_count": null,
   "metadata": {},
   "outputs": [],
   "source": [
    "# %load Day_046_HW.py\n",
    "#!/usr/bin/env python\n",
    "\n",
    "# ### 作業\n",
    "# 目前已經學過許多的模型，相信大家對整體流程應該比較掌握了，這次作業請改用**手寫辨識資料集**，步驟流程都是一樣的，請試著自己撰寫程式碼來完成所有步驟\n",
    "\n",
    "# In[2]:\n",
    "\n",
    "import pandas as pd\n",
    "from sklearn import datasets, metrics\n",
    "from sklearn.model_selection import train_test_split\n",
    "from sklearn.ensemble import GradientBoostingClassifier\n",
    "from sklearn.metrics import classification_report\n",
    "\n",
    "\n",
    "\n",
    "\n",
    "\n",
    "\n",
    "digits = datasets.load_digits()\n",
    "\n",
    "\n",
    "# In[ ]:\n",
    "\n",
    "\n",
    "df_X = pd.DataFrame(digits['data'])\n",
    "df_Y = pd.DataFrame(digits['target'])\n",
    "\n",
    "print(df_X.shape)\n",
    "\n",
    "\n",
    "train_X , test_X , train_Y , test_Y = train_test_split(df_X , df_Y , test_size = 0.2)\n",
    "clf = GradientBoostingClassifier(learning_rate = 0.1 , n_estimators =  100)\n",
    "\n",
    "clf.fit(train_X , train_Y)\n",
    "pred_Y = clf.predict(test_X)\n",
    "\n",
    "score = classification_report(test_Y , pred_Y)\n",
    "print(score)\n",
    "\n"
   ]
  }
 ],
 "metadata": {
  "kernelspec": {
   "display_name": "Python 3",
   "language": "python",
   "name": "python3"
  },
  "language_info": {
   "codemirror_mode": {
    "name": "ipython",
    "version": 3
   },
   "file_extension": ".py",
   "mimetype": "text/x-python",
   "name": "python",
   "nbconvert_exporter": "python",
   "pygments_lexer": "ipython3",
   "version": "3.7.3"
  }
 },
 "nbformat": 4,
 "nbformat_minor": 2
}
