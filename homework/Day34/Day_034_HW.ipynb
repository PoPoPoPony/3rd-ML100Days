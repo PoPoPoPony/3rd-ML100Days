{
 "cells": [
  {
   "cell_type": "code",
   "execution_count": null,
   "metadata": {},
   "outputs": [],
   "source": [
    "# %load Day_034_HW.py\n",
    "#!/usr/bin/env python\n",
    "\n",
    "# ## 練習時間\n",
    "# 假設我們資料中類別的數量並不均衡，在評估準確率時可能會有所偏頗，試著切分出 y_test 中，0 類別與 1 類別的數量是一樣的 (亦即 y_test 的類別是均衡的)\n",
    "\n",
    "# In[2]:\n",
    "\n",
    "\n",
    "import numpy as np\n",
    "X = np.arange(1000).reshape(200, 5)\n",
    "y = np.zeros(200)\n",
    "y[:40] = 1\n",
    "\n",
    "\n",
    "# In[3]:\n",
    "\n",
    "\n",
    "\n",
    "\n",
    "from sklearn.model_selection import train_test_split\n",
    "# 可以看見 y 類別中，有 160 個 類別 0，40 個 類別 1 ，請試著使用 train_test_split 函數，\n",
    "# 切分出 y_test 中能各有 10 筆類別 0 與 10 筆類別 1 。(HINT: 參考函數中的 test_size，可針對不同類別各自作切分後再合併)\n",
    "\n",
    "# In[ ]:\n",
    "\n",
    "\n",
    "train_X_1 , test_X_1 , train_y_1 , test_y_1 = train_test_split(X[:40] , y[:40] , test_size = 10)\n",
    "train_X_0 , test_X_0 , train_y_0 , test_y_0 = train_test_split(X[40:] , y[40:] , test_size = 10)\n",
    "\n",
    "train_X = np.append(train_X_1 , train_X_0)\n",
    "test_X = np.append(test_X_1 , test_X_0)\n",
    "train_y = np.append(train_y_1 , train_y_1)\n",
    "test_y = np.append(test_y_1 , test_y_0)\n",
    "\n",
    "print(test_X)\n",
    "print(test_y)\n",
    "\n"
   ]
  }
 ],
 "metadata": {
  "kernelspec": {
   "display_name": "Python 3",
   "language": "python",
   "name": "python3"
  },
  "language_info": {
   "codemirror_mode": {
    "name": "ipython",
    "version": 3
   },
   "file_extension": ".py",
   "mimetype": "text/x-python",
   "name": "python",
   "nbconvert_exporter": "python",
   "pygments_lexer": "ipython3",
   "version": "3.7.3"
  }
 },
 "nbformat": 4,
 "nbformat_minor": 2
}
