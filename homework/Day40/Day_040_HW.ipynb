{
 "cells": [
  {
   "cell_type": "code",
   "execution_count": null,
   "metadata": {},
   "outputs": [],
   "source": [
    "# %load Day_040_HW.py\n",
    "#!/usr/bin/env python\n",
    "\n",
    "# ## [作業重點]\n",
    "# 使用 Sklearn 中的 Lasso, Ridge 模型，來訓練各種資料集，務必了解送進去模型訓練的**資料型態**為何，也請了解模型中各項參數的意義。\n",
    "# \n",
    "# 機器學習的模型非常多種，但要訓練的資料多半有固定的格式，確保你了解訓練資料的格式為何，這樣在應用新模型時，就能夠最快的上手開始訓練！\n",
    "\n",
    "# ## 練習時間\n",
    "# 試著使用 sklearn datasets 的其他資料集 (boston, ...)，來訓練自己的線性迴歸模型，並加上適當的正則化來觀察訓練情形。\n",
    "\n",
    "# In[ ]:\n",
    "\n",
    "import pandas as pd\n",
    "from sklearn import datasets\n",
    "from sklearn.model_selection import train_test_split\n",
    "from sklearn.linear_model import Lasso , Ridge\n",
    "from sklearn.metrics import r2_score , mean_squared_error , mean_absolute_error\n",
    "\n",
    "\n",
    "wine = datasets.load_wine()\n",
    "df = pd.DataFrame(wine['data'] , columns = wine['feature_names'])\n",
    "temp = df['proline']\n",
    "df = df.drop('proline' , axis = 1)\n",
    "\n",
    "train_X , test_X , train_Y , test_Y = train_test_split(df , temp , test_size = 0.1)\n",
    "LR = Lasso(alpha = 3)\n",
    "LR.fit(train_X , train_Y)\n",
    "pred_Y = LR.predict(test_X)\n",
    "\n",
    "r2 = r2_score(test_Y , pred_Y)\n",
    "mae = mean_absolute_error(test_Y , pred_Y)\n",
    "mse = mean_squared_error(test_Y , pred_Y)\n",
    "\n",
    "print(\"L1 r2 : {}\".format(r2))\n",
    "print(\"L1 mae : {}\".format(mae))\n",
    "print(\"L1 mse : {}\".format(mse))\n",
    "\n",
    "\n",
    "LR = Ridge(alpha = 3)\n",
    "LR.fit(train_X , train_Y)\n",
    "pred_Y = LR.predict(test_X)\n",
    "\n",
    "r2 = r2_score(test_Y , pred_Y)\n",
    "mae = mean_absolute_error(test_Y , pred_Y)\n",
    "mse = mean_squared_error(test_Y , pred_Y)\n",
    "\n",
    "print(\"L2 r2 : {}\".format(r2))\n",
    "print(\"L2 mae : {}\".format(mae))\n",
    "print(\"L2 mse : {}\".format(mse))\n",
    "\n",
    "\n",
    "\n",
    "\n",
    "\n",
    "\n"
   ]
  }
 ],
 "metadata": {
  "kernelspec": {
   "display_name": "Python 3",
   "language": "python",
   "name": "python3"
  },
  "language_info": {
   "codemirror_mode": {
    "name": "ipython",
    "version": 3
   },
   "file_extension": ".py",
   "mimetype": "text/x-python",
   "name": "python",
   "nbconvert_exporter": "python",
   "pygments_lexer": "ipython3",
   "version": "3.7.3"
  }
 },
 "nbformat": 4,
 "nbformat_minor": 2
}
