{
 "cells": [
  {
   "cell_type": "code",
   "execution_count": null,
   "metadata": {},
   "outputs": [],
   "source": [
    "# %load Day_003_HW.py\n",
    "#!/usr/bin/env python\n",
    "\n",
    "# ## [作業目標]\n",
    "# 持續接觸有關機器學習的相關專案與最新技術\n",
    "\n",
    "# ## [作業重點]\n",
    "# 透過觀察頂尖公司的機器學習文章，來了解各公司是怎麼應用機器學習在實際的專案上\n",
    "\n",
    "# ## [作業]\n",
    "# 今天的作業希望大家能夠看看全球機器學習巨頭們在做的機器學習專案。以 google 為例，下圖是 Google 內部專案使用機器學習的數量，隨著時間進展，現在早已超過 2000 個專案在使用機器學習。\n",
    "\n",
    "# ![image](https://cdn-images-1.medium.com/max/800/1*U_L8qI8RmYS-MOBrYvXhSA.png)\n",
    "\n",
    "# 底下幫同學整理幾間知名企業的 blog 或機器學習網站 (自行搜尋也可)，這些網站都會整理最新的機器學習專案或者是技術文章，請挑選一篇文章閱讀並試著回答\n",
    "# 1. 專案的目標？ (要解決什麼問題）\n",
    "# 2. 使用的技術是？ (只需知道名稱即可，例如：使用 CNN 卷積神經網路做影像分類)\n",
    "# 3. 資料來源？ \n",
    "\n",
    "# - [Google AI blog](https://ai.googleblog.com/)\n",
    "# - [Facebook Research blog](https://research.fb.com/blog/)\n",
    "# - [Apple machine learning journal](https://machinelearning.apple.com/)\n",
    "# - [機器之心](https://www.jiqizhixin.com/)\n",
    "# - [雷鋒網](http://www.leiphone.com/category/ai)\n",
    "\n",
    "# 專案的目標 : 使用NLP技術以輔助醫生蒐集數據\n",
    "# 使用的技術 : NLP，文章只有提到它是基於i2b2標準所開發的信息提取系統，但是我猜NLP部分可能是採用近期比較火的Bert模型\n",
    "# 資料來源 : 過去的病歷\n",
    "\n",
    "\n",
    "\n",
    "\n"
   ]
  }
 ],
 "metadata": {
  "kernelspec": {
   "display_name": "Python 3",
   "language": "python",
   "name": "python3"
  },
  "language_info": {
   "codemirror_mode": {
    "name": "ipython",
    "version": 3
   },
   "file_extension": ".py",
   "mimetype": "text/x-python",
   "name": "python",
   "nbconvert_exporter": "python",
   "pygments_lexer": "ipython3",
   "version": "3.7.3"
  }
 },
 "nbformat": 4,
 "nbformat_minor": 2
}
