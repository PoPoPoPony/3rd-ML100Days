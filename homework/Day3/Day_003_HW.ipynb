{
 "cells": [
  {
   "cell_type": "code",
   "execution_count": null,
   "metadata": {},
   "outputs": [],
   "source": [
    "# %load Day_003_HW.py\n",
    "# # [作業3]\n",
    "# \n",
    "# 想像你經營一個自由載客車隊，你希望能透過數據分析以提升業績，請你思考並描述你如何規劃整體的分析/解決方案：\n",
    "# \n",
    "# 1. 核心問題為何 (tips：如何定義 「提升業績 & 你的假設」)\n",
    "# \n",
    "# 2. 資料從何而來 (tips：哪些資料可能會對你想問的問題產生影響 & 資料如何蒐集)\n",
    "# \n",
    "# 3. 蒐集而來的資料型態為何\n",
    "# \n",
    "# 4. 你要回答的問題，其如何評估 (tips：你的假設如何驗證)\n",
    "#\n",
    "# A1 : 如何提升載客率、如何提升客戶黏著度、如何讓正在使用其他載客車隊的客戶轉向我們、如何開發不常使用載客服務的客群\n",
    "#      如何利用數據進行定價、如何基於數據來管理整個車隊\n",
    "#\n",
    "# A2 : 資料從內部過去的載客資料蒐集(比如說 : 如果有app的話，蒐集各個帳號的年齡、性別、工作、常出現的地方等資料)，\n",
    "#      問卷調查、買資料、其他資料(視個別的case去爬)\n",
    "#\n",
    "# A3 : 看標籤，部分是連續的資料，部分是離散的資料，我們也可以視情況把連續的資料作離散化\n",
    "#\n",
    "# A4 : 看上述的核心問題有沒有被解決、公司的業績是否有有效提升、知名度是否有提升、註冊人數是否變多\n",
    "\n"
   ]
  }
 ],
 "metadata": {
  "kernelspec": {
   "display_name": "Python 3",
   "language": "python",
   "name": "python3"
  },
  "language_info": {
   "codemirror_mode": {
    "name": "ipython",
    "version": 3
   },
   "file_extension": ".py",
   "mimetype": "text/x-python",
   "name": "python",
   "nbconvert_exporter": "python",
   "pygments_lexer": "ipython3",
   "version": "3.7.3"
  }
 },
 "nbformat": 4,
 "nbformat_minor": 2
}
