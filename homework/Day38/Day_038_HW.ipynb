{
 "cells": [
  {
   "cell_type": "code",
   "execution_count": null,
   "metadata": {},
   "outputs": [],
   "source": [
    "# %load Day_038_HW.py\n",
    "#!/usr/bin/env python\n",
    "\n",
    "# ## [作業重點]\n",
    "# 使用 Sklearn 中的線性迴歸模型，來訓練各種資料集，務必了解送進去模型訓練的**資料型態**為何，也請了解模型中各項參數的意義\n",
    "\n",
    "# ## 作業\n",
    "# 試著使用 sklearn datasets 的其他資料集 (wine, boston, ...)，來訓練自己的線性迴歸模型。\n",
    "\n",
    "# ### HINT: 注意 label 的型態，確定資料集的目標是分類還是回歸，在使用正確的模型訓練！\n",
    "\n",
    "# In[ ]:\n",
    "\n",
    "from sklearn import datasets\n",
    "import pandas as pd\n",
    "from sklearn.linear_model import LinearRegression\n",
    "from sklearn.model_selection import train_test_split\n",
    "from sklearn.metrics import mean_squared_error\n",
    "from sklearn.metrics import mean_absolute_error\n",
    "from sklearn.metrics import r2_score\n",
    "\n",
    "\n",
    "wine = datasets.load_wine()\n",
    "df = pd.DataFrame(wine['data'] , columns = wine['feature_names'])\n",
    "temp = df['proline']\n",
    "df = df.drop('proline' , axis = 1)\n",
    "\n",
    "train_X , test_X , train_Y , test_Y = train_test_split(df , temp , test_size = 0.1)\n",
    "\n",
    "LR = LinearRegression()\n",
    "LR.fit(train_X , train_Y)\n",
    "pred_Y = LR.predict(test_X)\n",
    "mse = mean_squared_error(test_Y , pred_Y)\n",
    "mae = mean_absolute_error(test_Y , pred_Y)\n",
    "r2 = r2_score(test_Y , pred_Y)\n",
    "\n",
    "print(\"mse : {}\".format(mse))\n",
    "print(\"mae : {}\".format(mae))\n",
    "print(\"r2 : {}\".format(r2))"
   ]
  }
 ],
 "metadata": {
  "kernelspec": {
   "display_name": "Python 3",
   "language": "python",
   "name": "python3"
  },
  "language_info": {
   "codemirror_mode": {
    "name": "ipython",
    "version": 3
   },
   "file_extension": ".py",
   "mimetype": "text/x-python",
   "name": "python",
   "nbconvert_exporter": "python",
   "pygments_lexer": "ipython3",
   "version": "3.7.3"
  }
 },
 "nbformat": 4,
 "nbformat_minor": 2
}
