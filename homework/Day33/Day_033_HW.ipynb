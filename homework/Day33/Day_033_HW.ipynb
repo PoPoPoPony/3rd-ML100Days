{
 "cells": [
  {
   "cell_type": "code",
   "execution_count": null,
   "metadata": {},
   "outputs": [],
   "source": [
    "# %load Day_033_HW.py\n",
    "#!/usr/bin/env python\n",
    "\n",
    "# ## 練習時間\n",
    "\n",
    "# 請觀看李宏毅教授以神奇寶貝進化 CP 值預測的範例，解說何謂機器學習與過擬合。並回答以下問題\n",
    "\n",
    "# [youtube](https://www.youtube.com/watch?v=fegAeph9UaA)\n",
    "\n",
    "# ### 1. 模型的泛化能力 (generalization) 是指什麼？ \n",
    "# ### 2. 分類問題與回歸問題分別可用的目標函數有哪些？\n",
    "\n",
    "\n",
    "#1 : 指模型在測試集上的預測能力\n",
    "#2 : 回歸問題 : MSE、RMSE、MAE\n",
    "#2 : 分類問題 : coss entropy"
   ]
  }
 ],
 "metadata": {
  "kernelspec": {
   "display_name": "Python 3",
   "language": "python",
   "name": "python3"
  },
  "language_info": {
   "codemirror_mode": {
    "name": "ipython",
    "version": 3
   },
   "file_extension": ".py",
   "mimetype": "text/x-python",
   "name": "python",
   "nbconvert_exporter": "python",
   "pygments_lexer": "ipython3",
   "version": "3.7.3"
  }
 },
 "nbformat": 4,
 "nbformat_minor": 2
}
